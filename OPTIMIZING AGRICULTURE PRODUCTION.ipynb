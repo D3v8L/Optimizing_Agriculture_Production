{
 "cells": [
  {
   "cell_type": "code",
   "execution_count": 1,
   "id": "0b2497e3",
   "metadata": {},
   "outputs": [],
   "source": [
    "import numpy as np\n",
    "import pandas as pd\n",
    "import matplotlib.pyplot as plt\n",
    "import seaborn as sns\n",
    "import ipywidgets as widgets\n",
    "from ipywidgets import interact, interact_manual"
   ]
  },
  {
   "cell_type": "code",
   "execution_count": 2,
   "id": "79c944af",
   "metadata": {},
   "outputs": [],
   "source": [
    "data=pd.read_csv(\"data.csv\")\n",
    "#data=pd.read_json(\"data.json\")"
   ]
  },
  {
   "cell_type": "code",
   "execution_count": 3,
   "id": "76e8819e",
   "metadata": {},
   "outputs": [
    {
     "name": "stdout",
     "output_type": "stream",
     "text": [
      "shape :  (2200, 8)\n"
     ]
    }
   ],
   "source": [
    "print(\"shape : \",data.shape)"
   ]
  },
  {
   "cell_type": "code",
   "execution_count": 4,
   "id": "a501a42d",
   "metadata": {},
   "outputs": [
    {
     "data": {
      "text/plain": [
       "N              0\n",
       "P              0\n",
       "K              0\n",
       "temperature    0\n",
       "humidity       0\n",
       "ph             0\n",
       "rainfall       0\n",
       "label          0\n",
       "dtype: int64"
      ]
     },
     "execution_count": 4,
     "metadata": {},
     "output_type": "execute_result"
    }
   ],
   "source": [
    "data.isnull().sum()"
   ]
  },
  {
   "cell_type": "code",
   "execution_count": 5,
   "id": "53ee96ce",
   "metadata": {
    "scrolled": true
   },
   "outputs": [
    {
     "data": {
      "text/plain": [
       "rice           100\n",
       "maize          100\n",
       "jute           100\n",
       "cotton         100\n",
       "coconut        100\n",
       "papaya         100\n",
       "orange         100\n",
       "apple          100\n",
       "muskmelon      100\n",
       "watermelon     100\n",
       "grapes         100\n",
       "mango          100\n",
       "banana         100\n",
       "pomegranate    100\n",
       "lentil         100\n",
       "blackgram      100\n",
       "mungbean       100\n",
       "mothbeans      100\n",
       "pigeonpeas     100\n",
       "kidneybeans    100\n",
       "chickpea       100\n",
       "coffee         100\n",
       "Name: label, dtype: int64"
      ]
     },
     "execution_count": 5,
     "metadata": {},
     "output_type": "execute_result"
    }
   ],
   "source": [
    "\n",
    "data[\"label\"].value_counts()"
   ]
  },
  {
   "cell_type": "code",
   "execution_count": 6,
   "id": "b57e38e0",
   "metadata": {
    "scrolled": true
   },
   "outputs": [
    {
     "data": {
      "application/vnd.jupyter.widget-view+json": {
       "model_id": "7ad65e8eb384425085ce6e4b2ddf4426",
       "version_major": 2,
       "version_minor": 0
      },
      "text/plain": [
       "interactive(children=(Dropdown(description='crops', options=('rice', 'maize', 'jute', 'cotton', 'coconut', 'pa…"
      ]
     },
     "metadata": {},
     "output_type": "display_data"
    }
   ],
   "source": [
    "@interact\n",
    "def overall(crops=list(data[\"label\"].value_counts().index)):\n",
    "    x=data[data[\"label\"]==crops]\n",
    "    print(\"-------------------\")\n",
    "    print(\"nitrogen\")\n",
    "    print(\"min : \",x[\"N\"].min())\n",
    "    print(\"avg : \",x[\"N\"].mean())\n",
    "    print(\"max : \",x[\"N\"].max())\n",
    "    print(\"-------------------\")\n",
    "    print(\"phosphorous\")\n",
    "    print(\"min : \",x[\"P\"].min())\n",
    "    print(\"avg : \",x[\"P\"].mean())\n",
    "    print(\"max : \",x[\"P\"].max())\n",
    "    print(\"-------------------\")\n",
    "    print(\"potassium\")\n",
    "    print(\"min : \",x[\"K\"].min())\n",
    "    print(\"avg : \",x[\"K\"].mean())\n",
    "    print(\"max : \",x[\"K\"].max())\n",
    "    print(\"-------------------\")\n",
    "    print(\"temperature\")\n",
    "    print(\"min : \",x[\"temperature\"].min())\n",
    "    print(\"avg : \",x[\"temperature\"].mean())\n",
    "    print(\"max : \",x[\"temperature\"].max())\n",
    "    print(\"-------------------\")\n",
    "    print(\"ph\")\n",
    "    print(\"min : \",x[\"ph\"].min())\n",
    "    print(\"avg : \",x[\"ph\"].mean())\n",
    "    print(\"max : \",x[\"ph\"].max())\n",
    "    print(\"-------------------\")\n",
    "    print(\"rainfall\")\n",
    "    print(\"min : \",x[\"rainfall\"].min())\n",
    "    print(\"avg : \",x[\"rainfall\"].mean())\n",
    "    print(\"max : \",x[\"rainfall\"].max())\n",
    "    print(\"-------------------\")"
   ]
  },
  {
   "cell_type": "code",
   "execution_count": null,
   "id": "0a79d083",
   "metadata": {},
   "outputs": [],
   "source": []
  }
 ],
 "metadata": {
  "kernelspec": {
   "display_name": "Python 3 (ipykernel)",
   "language": "python",
   "name": "python3"
  },
  "language_info": {
   "codemirror_mode": {
    "name": "ipython",
    "version": 3
   },
   "file_extension": ".py",
   "mimetype": "text/x-python",
   "name": "python",
   "nbconvert_exporter": "python",
   "pygments_lexer": "ipython3",
   "version": "3.9.6"
  }
 },
 "nbformat": 4,
 "nbformat_minor": 5
}
